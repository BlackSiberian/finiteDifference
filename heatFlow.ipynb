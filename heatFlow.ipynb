{
 "cells": [
  {
   "cell_type": "code",
   "execution_count": 12,
   "metadata": {},
   "outputs": [],
   "source": [
    "import numpy as np\n",
    "import pandas as pd\n",
    "from matplotlib import pyplot as plt"
   ]
  },
  {
   "cell_type": "code",
   "execution_count": 24,
   "metadata": {},
   "outputs": [],
   "source": [
    "# Параметры расчета\n",
    "T_ = 1 # Время\n",
    "TAU = 0.01 # Шаг по времени\n",
    "L = 1 # Длина\n",
    "H = 0.05 # Шаг по длине\n",
    "SIGMA = 0.7 # Вес\n",
    "A_ = 1 # Температуропроводность\n",
    "X = np.arange(0, L + H, H)\n",
    "T = np.arange(0, T_ + TAU, TAU)\n",
    "# Инициализация поля температур\n",
    "U = np.zeros(len(X))"
   ]
  },
  {
   "cell_type": "code",
   "execution_count": 14,
   "metadata": {},
   "outputs": [],
   "source": [
    "def init_cond(x): # Начальные условия\n",
    "    return 3 / 2 * np.log(1 + x**2)"
   ]
  },
  {
   "cell_type": "code",
   "execution_count": 15,
   "metadata": {},
   "outputs": [],
   "source": [
    "def left_bord_cond(t): # Левое граничное условие\n",
    "    return 1, -1, 3/ 2 * np.log(1 + t)"
   ]
  },
  {
   "cell_type": "code",
   "execution_count": 16,
   "metadata": {},
   "outputs": [],
   "source": [
    "def right_bord_cond(t): # Правое граничное условие\n",
    "    return 0, 1, 3 / (2 + t)"
   ]
  },
  {
   "cell_type": "code",
   "execution_count": 17,
   "metadata": {},
   "outputs": [],
   "source": [
    "def het_get(x, t): # Неоднородность\n",
    "    return 3 * (3 * x**2 - t - 1) / (2 * (1 + t + x**2)**2)"
   ]
  },
  {
   "cell_type": "code",
   "execution_count": 18,
   "metadata": {},
   "outputs": [],
   "source": [
    "# Заполняем согласно начальным условиям\n",
    "for i, x in enumerate(X):\n",
    "    U[i] = init_cond(x)"
   ]
  },
  {
   "cell_type": "code",
   "execution_count": 27,
   "metadata": {},
   "outputs": [
    {
     "data": {
      "image/png": "[encoded data removed]",
      "text/plain": [
       "<Figure size 640x480 with 1 Axes>"
      ]
     },
     "metadata": {},
     "output_type": "display_data"
    }
   ],
   "source": [
    "for n, t in enumerate(T):\n",
    "    # Сохраняем значения на предыдущем шаге\n",
    "    U_prev = U\n",
    "    # Заполняем согласно граничные условия \n",
    "    d = np.zeros(len(X))\n",
    "    alpha_0, beta_0, d[0] = left_bord_cond(t)\n",
    "    alpha_l, beta_l, d[-1] = right_bord_cond(t)\n",
    "\n",
    "    A_0 = alpha_0 - beta_0 / H\n",
    "    B_0 = beta_0\n",
    "    A_l = alpha_l - beta_l / H\n",
    "    B_l = beta_l\n",
    "    A = C = - A_ * SIGMA / pow(H, 2)\n",
    "    B = 2 * A_ * SIGMA / pow(H, 2) + 1 / TAU\n",
    "    del alpha_0, beta_0, alpha_l, beta_l\n",
    "\n",
    "    a = np.zeros(len(X)-1)\n",
    "    b = np.zeros(len(X)-1)\n",
    "    a[0] = - B_0 / A_0\n",
    "    b[0] = d[0] / A_0\n",
    "    for i, x in enumerate(X[1:-1]): # Прямой прогон\n",
    "        d[i] = A_ * (1 - SIGMA) / pow(H, 2) * \\\n",
    "                    (U_prev[i+1] - 2 * U_prev[i] + U_prev[i-1]) + \\\n",
    "                                    U_prev[i] / TAU + het_get(x, t)\n",
    "        a[i] = - C / (A * a[i-1] + B)\n",
    "        b[i] = (d[i] - A * b[i-1]) / (A * a[i-1] + B)\n",
    "    U[-1] = (d[-1] - A_l * b[-1]) / (a[-1] * A_l + B_l)\n",
    "\n",
    "    for i in range(len(X)-1, 0, -1): # Обратный прогон\n",
    "        U[i-1] = a[i-1] * U[i] + b[i-1]\n",
    "    \n",
    "U_0 = np.zeros(len(X))\n",
    "for i, x in enumerate(X):\n",
    "    U_0[i] = 3 / 2 * np.log(1 + T[-1] + x**2)\n",
    "\n",
    "plt.plot(X, U, color='r')\n",
    "plt.plot(X, U_0, color='b')\n",
    "plt.show()"
   ]
  }
 ],
 "metadata": {
  "kernelspec": {
   "display_name": "base",
   "language": "python",
   "name": "python3"
  },
  "language_info": {
   "codemirror_mode": {
    "name": "ipython",
    "version": 3
   },
   "file_extension": ".py",
   "mimetype": "text/x-python",
   "name": "python",
   "nbconvert_exporter": "python",
   "pygments_lexer": "ipython3",
   "version": "3.9.13"
  },
  "orig_nbformat": 4
 },
 "nbformat": 4,
 "nbformat_minor": 2
}
